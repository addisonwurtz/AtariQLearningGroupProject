{
 "cells": [
  {
   "cell_type": "code",
   "execution_count": null,
   "id": "e00d6f67",
   "metadata": {},
   "outputs": [],
   "source": [
    "# A lot of Code used from Nick Nochnack https://github.com/nicknochnack/ReinforcementLearningCourse"
   ]
  },
  {
   "cell_type": "code",
   "execution_count": null,
   "id": "15361291",
   "metadata": {},
   "outputs": [],
   "source": [
    "'''\n",
    "Need very specific dependencies and environment\n",
    "\n",
    "Used a virtual environment using virtualenv\n",
    "Command pulling up virtual environment to use python 3.7\n",
    "virtualenv -p python3.7 env\n",
    "source env/bin/activate\n",
    "\n",
    "Update pip and pull specific versions of libraries/apis\n",
    "pip install --upgrade pip\n",
    "pip install jupyter\n",
    "pip install stable_base_lines3==1.0\n",
    "pip install tensorflow==2.3.1\n",
    "pip install gym==0.18.0\n",
    "pip install keras_rl2==1.0.4\n",
    "pip install atari_py==0.2.9\n",
    "pip install autorom==0.4.2\n",
    "pip install open-cv-python\n",
    "\n",
    "Download Atari 2600 ROMs:\n",
    "type this command in terminal: 'autorom'\n",
    "Agree to distribute these ROMS\n",
    "change directories command: cd /{current_path}/{current_directory}/env/lib.python3.7/site_packages/atari_py/atari_roms/\n",
    "once in correct directory type in command: 'python -m atari_py.import_roms .'\n",
    "cd back into current_directory\n",
    "\n",
    "run jupyter notebook with command 'jupyter notebook'\n",
    "Fill and run cells below\n",
    "'''"
   ]
  },
  {
   "cell_type": "code",
   "execution_count": null,
   "id": "1d255a62",
   "metadata": {},
   "outputs": [],
   "source": [
    "import gym \n",
    "from stable_baselines3 import A2C\n",
    "from stable_baselines3.common.vec_env import VecFrameStack\n",
    "from stable_baselines3.common.evaluation import evaluate_policy\n",
    "from stable_baselines3.common.env_util import make_atari_env\n",
    "import os"
   ]
  },
  {
   "cell_type": "code",
   "execution_count": null,
   "id": "d2c0c905",
   "metadata": {},
   "outputs": [],
   "source": [
    "environment_name = \"Breakout-v0\""
   ]
  },
  {
   "cell_type": "code",
   "execution_count": null,
   "id": "9ce3050c",
   "metadata": {},
   "outputs": [],
   "source": [
    "env = gym.make(environment_name)"
   ]
  },
  {
   "cell_type": "code",
   "execution_count": null,
   "id": "7fe47901",
   "metadata": {},
   "outputs": [],
   "source": [
    "# Runs simulations with random action choices\n",
    "episodes = 5\n",
    "for episode in range(1, episodes+1):\n",
    "    state = env.reset()\n",
    "    done = False\n",
    "    score = 0 \n",
    "    \n",
    "    while not done:\n",
    "        env.render()\n",
    "        action = env.action_space.sample()\n",
    "        n_state, reward, done, info = env.step(action)\n",
    "        score+=reward\n",
    "    print('Episode:{} Score:{}'.format(episode, score))\n",
    "env.close()"
   ]
  },
  {
   "cell_type": "code",
   "execution_count": null,
   "id": "40044875",
   "metadata": {},
   "outputs": [],
   "source": [
    "# Shows discrete action space\n",
    "env.action_space.sample()"
   ]
  },
  {
   "cell_type": "code",
   "execution_count": null,
   "id": "4e6c2f9d",
   "metadata": {},
   "outputs": [],
   "source": [
    "# Shows Box object\n",
    "env.observation_space.sample()"
   ]
  },
  {
   "cell_type": "code",
   "execution_count": null,
   "id": "e18477fd",
   "metadata": {},
   "outputs": [],
   "source": [
    "env = make_atari_env('Breakout-v0', n_envs=4, seed=0)"
   ]
  },
  {
   "cell_type": "code",
   "execution_count": null,
   "id": "58b6f482",
   "metadata": {},
   "outputs": [],
   "source": [
    "env = VecFrameStack(env, n_stack=4)"
   ]
  },
  {
   "cell_type": "code",
   "execution_count": null,
   "id": "5dc400cd",
   "metadata": {},
   "outputs": [],
   "source": [
    "log_path = os.path.join('Training', 'Logs')"
   ]
  },
  {
   "cell_type": "code",
   "execution_count": null,
   "id": "e0a61876",
   "metadata": {},
   "outputs": [],
   "source": [
    "model = A2C(\"CnnPolicy\", env, verbose=1, tensorboard_log=log_path)"
   ]
  },
  {
   "cell_type": "code",
   "execution_count": null,
   "id": "f7bb0ec1",
   "metadata": {},
   "outputs": [],
   "source": [
    "# This will determine how good a model you've trained\n",
    "num_steps = 400000\n",
    "model.learn(total_timesteps=num_steps)"
   ]
  },
  {
   "cell_type": "code",
   "execution_count": null,
   "id": "cdcfbbe3",
   "metadata": {},
   "outputs": [],
   "source": [
    "# Saves model to system\n",
    "a2c_model_path = os.path.join('Training', 'Saved Models', 'A2C_model')\n",
    "model.save(a2c_model_path)"
   ]
  },
  {
   "cell_type": "code",
   "execution_count": null,
   "id": "db9a51b6",
   "metadata": {},
   "outputs": [],
   "source": [
    "# This runs a test on the policy. Simulation should pop up\n",
    "evaluate_policy(model, env, n_eval_episodes=100, render=True)"
   ]
  },
  {
   "cell_type": "code",
   "execution_count": null,
   "id": "992221e1",
   "metadata": {},
   "outputs": [],
   "source": [
    "# Load policy from system\n",
    "model = A2C.load(ac2_model_path)\n"
   ]
  }
 ],
 "metadata": {
  "kernelspec": {
   "display_name": "Python 3 (ipykernel)",
   "language": "python",
   "name": "python3"
  },
  "language_info": {
   "codemirror_mode": {
    "name": "ipython",
    "version": 3
   },
   "file_extension": ".py",
   "mimetype": "text/x-python",
   "name": "python",
   "nbconvert_exporter": "python",
   "pygments_lexer": "ipython3",
   "version": "3.8.12"
  }
 },
 "nbformat": 4,
 "nbformat_minor": 5
}
